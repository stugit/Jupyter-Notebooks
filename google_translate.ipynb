{
 "cells": [
  {
   "cell_type": "code",
   "execution_count": 12,
   "metadata": {},
   "outputs": [
    {
     "name": "stdout",
     "output_type": "stream",
     "text": [
      "Translated(src=ko, dest=ja, text=こんにちは。, pronunciation=Kon'nichiwa.)\n",
      "Translated(src=la, dest=en, text=The truth is my light, pronunciation=The truth is my light)\n",
      "Hello world.  ->  你好，世界。\n",
      "Jingle bells.  ->  鈴兒響叮噹\n",
      "Hello world.  ->  안녕 세상.\n",
      "Jingle bells.  ->  징글 벨.\n"
     ]
    }
   ],
   "source": [
    "from googletrans import Translator\n",
    "\n",
    "translator = Translator(\n",
    "    service_urls=[\n",
    "        'translate.google.com',\n",
    "        'translate.google.co.kr',\n",
    "])\n",
    "translator.translate(u'안녕하세요.')\n",
    "# <Translated src=ko dest=en text=Good evening. pronunciation=Good evening.>\n",
    "print(translator.translate(u'안녕하세요.', dest='ja'))\n",
    "# <Translated src=ko dest=ja text=こんにちは。 pronunciation=Kon'nichiwa.>\n",
    "print(translator.translate(u'veritas lux mea', src='la'))\n",
    "# <Translated src=la dest=en text=The truth is my light pronunciation=The truth is my light>\n",
    "\n",
    "\n",
    "translations = translator.translate([u'Hello world.', u'Jingle bells.'], dest='zh-TW')\n",
    "for translation in translations:\n",
    "    print(translation.origin , ' -> ', translation.text)    \n",
    "\n",
    "    \n",
    "translations = translator.translate([u'Hello world.', u'Jingle bells.'], dest='ko')\n",
    "for translation in translations:\n",
    "    print(translation.origin , ' -> ', translation.text)       \n"
   ]
  }
 ],
 "metadata": {
  "kernelspec": {
   "display_name": "Python 3",
   "language": "python",
   "name": "python3"
  },
  "language_info": {
   "codemirror_mode": {
    "name": "ipython",
    "version": 3
   },
   "file_extension": ".py",
   "mimetype": "text/x-python",
   "name": "python",
   "nbconvert_exporter": "python",
   "pygments_lexer": "ipython3",
   "version": "3.6.1"
  }
 },
 "nbformat": 4,
 "nbformat_minor": 2
}

